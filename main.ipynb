{
 "cells": [
  {
   "cell_type": "code",
   "execution_count": 15,
   "metadata": {
    "collapsed": true,
    "nbpresent": {
     "id": "7515207c-2bb5-4594-8861-3693d73d7004"
    }
   },
   "outputs": [],
   "source": [
    "import pandas as pd\n",
    "import numpy\n",
    "from sklearn import tree"
   ]
  },
  {
   "cell_type": "code",
   "execution_count": 14,
   "metadata": {
    "collapsed": false,
    "nbpresent": {
     "id": "112ffcb7-ea8b-4d91-a19d-9383f56c07ca"
    }
   },
   "outputs": [
    {
     "name": "stdout",
     "output_type": "stream",
     "text": [
      "        Store  Dept        Date  Weekly_Sales IsHoliday\n",
      "0           1     1  2010-02-05      24924.50     False\n",
      "1           1     1  2010-02-12      46039.49      True\n",
      "2           1     1  2010-02-19      41595.55     False\n",
      "3           1     1  2010-02-26      19403.54     False\n",
      "4           1     1  2010-03-05      21827.90     False\n",
      "5           1     1  2010-03-12      21043.39     False\n",
      "6           1     1  2010-03-19      22136.64     False\n",
      "7           1     1  2010-03-26      26229.21     False\n",
      "8           1     1  2010-04-02      57258.43     False\n",
      "9           1     1  2010-04-09      42960.91     False\n",
      "10          1     1  2010-04-16      17596.96     False\n",
      "11          1     1  2010-04-23      16145.35     False\n",
      "12          1     1  2010-04-30      16555.11     False\n",
      "13          1     1  2010-05-07      17413.94     False\n",
      "14          1     1  2010-05-14      18926.74     False\n",
      "15          1     1  2010-05-21      14773.04     False\n",
      "16          1     1  2010-05-28      15580.43     False\n",
      "17          1     1  2010-06-04      17558.09     False\n",
      "18          1     1  2010-06-11      16637.62     False\n",
      "19          1     1  2010-06-18      16216.27     False\n",
      "20          1     1  2010-06-25      16328.72     False\n",
      "21          1     1  2010-07-02      16333.14     False\n",
      "22          1     1  2010-07-09      17688.76     False\n",
      "23          1     1  2010-07-16      17150.84     False\n",
      "24          1     1  2010-07-23      15360.45     False\n",
      "25          1     1  2010-07-30      15381.82     False\n",
      "26          1     1  2010-08-06      17508.41     False\n",
      "27          1     1  2010-08-13      15536.40     False\n",
      "28          1     1  2010-08-20      15740.13     False\n",
      "29          1     1  2010-08-27      15793.87     False\n",
      "...       ...   ...         ...           ...       ...\n",
      "421540     45    98  2012-04-06        778.70     False\n",
      "421541     45    98  2012-04-13        559.14     False\n",
      "421542     45    98  2012-04-20        605.80     False\n",
      "421543     45    98  2012-04-27        619.41     False\n",
      "421544     45    98  2012-05-04        694.25     False\n",
      "421545     45    98  2012-05-11        893.60     False\n",
      "421546     45    98  2012-05-18        745.44     False\n",
      "421547     45    98  2012-05-25        795.94     False\n",
      "421548     45    98  2012-06-01        874.64     False\n",
      "421549     45    98  2012-06-08        713.50     False\n",
      "421550     45    98  2012-06-15        856.35     False\n",
      "421551     45    98  2012-06-22        622.62     False\n",
      "421552     45    98  2012-06-29        690.52     False\n",
      "421553     45    98  2012-07-06        659.65     False\n",
      "421554     45    98  2012-07-13        695.21     False\n",
      "421555     45    98  2012-07-20        845.30     False\n",
      "421556     45    98  2012-07-27        657.63     False\n",
      "421557     45    98  2012-08-03        516.46     False\n",
      "421558     45    98  2012-08-10        727.49     False\n",
      "421559     45    98  2012-08-17        500.16     False\n",
      "421560     45    98  2012-08-24        415.40     False\n",
      "421561     45    98  2012-08-31        346.04     False\n",
      "421562     45    98  2012-09-07        352.44      True\n",
      "421563     45    98  2012-09-14        605.96     False\n",
      "421564     45    98  2012-09-21        467.30     False\n",
      "421565     45    98  2012-09-28        508.37     False\n",
      "421566     45    98  2012-10-05        628.10     False\n",
      "421567     45    98  2012-10-12       1061.02     False\n",
      "421568     45    98  2012-10-19        760.01     False\n",
      "421569     45    98  2012-10-26       1076.80     False\n",
      "\n",
      "[421570 rows x 5 columns]\n"
     ]
    }
   ],
   "source": [
    "train = pd.read_csv('./data/train.csv')\n",
    "\n",
    "print(train)"
   ]
  },
  {
   "cell_type": "code",
   "execution_count": null,
   "metadata": {
    "collapsed": true,
    "nbpresent": {
     "id": "f552d9f4-ea8a-4126-ad2d-81c45201361d"
    }
   },
   "outputs": [],
   "source": []
  }
 ],
 "metadata": {
  "anaconda-cloud": {},
  "kernelspec": {
   "display_name": "Python [conda root]",
   "language": "python",
   "name": "conda-root-py"
  },
  "language_info": {
   "codemirror_mode": {
    "name": "ipython",
    "version": 3
   },
   "file_extension": ".py",
   "mimetype": "text/x-python",
   "name": "python",
   "nbconvert_exporter": "python",
   "pygments_lexer": "ipython3",
   "version": "3.5.2"
  }
 },
 "nbformat": 4,
 "nbformat_minor": 1
}
